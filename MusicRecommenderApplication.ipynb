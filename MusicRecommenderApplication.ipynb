{
  "nbformat": 4,
  "nbformat_minor": 0,
  "metadata": {
    "colab": {
      "name": "MusicRecommenderApplication.ipynb",
      "provenance": []
    },
    "kernelspec": {
      "name": "python3",
      "display_name": "Python 3"
    },
    "language_info": {
      "name": "python"
    }
  },
  "cells": [
    {
      "cell_type": "code",
      "metadata": {
        "colab": {
          "base_uri": "https://localhost:8080/"
        },
        "id": "iHS5hX33IlQn",
        "outputId": "20ba1478-d426-40cb-c341-b7c129634604"
      },
      "source": [
        "pip install fuzzywuzzy"
      ],
      "execution_count": 1,
      "outputs": [
        {
          "output_type": "stream",
          "name": "stdout",
          "text": [
            "Looking in indexes: https://pypi.org/simple, https://us-python.pkg.dev/colab-wheels/public/simple/\n",
            "Collecting fuzzywuzzy\n",
            "  Downloading fuzzywuzzy-0.18.0-py2.py3-none-any.whl (18 kB)\n",
            "Installing collected packages: fuzzywuzzy\n",
            "Successfully installed fuzzywuzzy-0.18.0\n"
          ]
        }
      ]
    },
    {
      "cell_type": "code",
      "metadata": {
        "colab": {
          "base_uri": "https://localhost:8080/"
        },
        "id": "WkvSt7MfIruK",
        "outputId": "9890f307-50b0-408a-bc8c-bd737151c5ad"
      },
      "source": [
        "pip install python-Levenshtein"
      ],
      "execution_count": 2,
      "outputs": [
        {
          "output_type": "stream",
          "name": "stdout",
          "text": [
            "Looking in indexes: https://pypi.org/simple, https://us-python.pkg.dev/colab-wheels/public/simple/\n",
            "Collecting python-Levenshtein\n",
            "  Downloading python-Levenshtein-0.12.2.tar.gz (50 kB)\n",
            "\u001b[K     |████████████████████████████████| 50 kB 4.1 MB/s \n",
            "\u001b[?25hRequirement already satisfied: setuptools in /usr/local/lib/python3.7/dist-packages (from python-Levenshtein) (57.4.0)\n",
            "Building wheels for collected packages: python-Levenshtein\n",
            "  Building wheel for python-Levenshtein (setup.py) ... \u001b[?25l\u001b[?25hdone\n",
            "  Created wheel for python-Levenshtein: filename=python_Levenshtein-0.12.2-cp37-cp37m-linux_x86_64.whl size=149866 sha256=b1ad4fc28c1b0c4381c8341a3f3b1d1e8c3b4044fa22c8ca547d36b9da69f166\n",
            "  Stored in directory: /root/.cache/pip/wheels/05/5f/ca/7c4367734892581bb5ff896f15027a932c551080b2abd3e00d\n",
            "Successfully built python-Levenshtein\n",
            "Installing collected packages: python-Levenshtein\n",
            "Successfully installed python-Levenshtein-0.12.2\n"
          ]
        }
      ]
    },
    {
      "cell_type": "markdown",
      "metadata": {
        "id": "JcF74bDtNqZj"
      },
      "source": [
        "# Recommenders"
      ]
    },
    {
      "cell_type": "code",
      "metadata": {
        "id": "gWyJuqFVHxIN"
      },
      "source": [
        "import pandas as pd\n",
        "import numpy as np\n",
        "import matplotlib.pyplot as plt\n",
        "import seaborn as sns\n",
        "from scipy.sparse import csr_matrix\n",
        "from typing import List, Dict\n",
        "from sklearn.feature_extraction.text import TfidfVectorizer\n",
        "from sklearn.metrics.pairwise import cosine_similarity\n",
        "from sklearn.neighbors import NearestNeighbors\n",
        "from fuzzywuzzy import fuzz\n",
        "\n",
        "class content_based_recommender:    \n",
        "    def __init__(self, matrix):\n",
        "        self.matrix_similar = matrix\n",
        "\n",
        "    def _print_message(self, song, recom_song):\n",
        "        rec_items = len(recom_song)\n",
        "        \n",
        "        print(f'The {rec_items} recommended songs for {song} are:')\n",
        "        for i in range(rec_items):\n",
        "            print(f\"Number {i+1}:\")\n",
        "            print(f\"{recom_song[i][1]} by {recom_song[i][2]} with {round(recom_song[i][0], 3)} similarity score\") \n",
        "            print(\"--------------------\")\n",
        "        \n",
        "    def recommend(self, recommendation):\n",
        "        # Get song to find recommendations for\n",
        "        song = recommendation['song']\n",
        "        # Get number of songs to recommend\n",
        "        number_songs = recommendation['number_songs']\n",
        "        # Get the number of songs most similars from matrix similarities\n",
        "        recom_song = self.matrix_similar[song][:number_songs]\n",
        "        # print each item\n",
        "        self._print_message(song=song, recom_song=recom_song)\n",
        "\n",
        "class collaborative_based_recommender:\n",
        "    class Recommender:\n",
        "        def __init__(self, metric, algorithm, k, data, decode_id_song):\n",
        "            self.metric = metric\n",
        "            self.algorithm = algorithm\n",
        "            self.k = k\n",
        "            self.data = data\n",
        "            self.decode_id_song = decode_id_song\n",
        "            self.data = data\n",
        "            self.model = self._recommender().fit(data)\n",
        "        \n",
        "        def make_recommendation(self, new_song, n_recommendations):\n",
        "            recommended = self._recommend(new_song=new_song, n_recommendations=n_recommendations)\n",
        "            print(\"... Done\")\n",
        "            return recommended \n",
        "        \n",
        "        def _recommender(self):\n",
        "            return NearestNeighbors(metric=self.metric, algorithm=self.algorithm, n_neighbors=self.k, n_jobs=-1)\n",
        "        \n",
        "        def _recommend(self, new_song, n_recommendations):\n",
        "            # Get the id of the recommended songs\n",
        "            recommendations = []\n",
        "            recommendation_ids = self._get_recommendations(new_song=new_song, n_recommendations=n_recommendations)\n",
        "            # return the name of the song using a mapping dictionary\n",
        "            recommendations_map = self._map_indeces_to_song_title(recommendation_ids)\n",
        "            # Translate this recommendations into the ranking of song titles recommended\n",
        "            for i, (idx, dist) in enumerate(recommendation_ids):\n",
        "                recommendations.append(recommendations_map[idx])\n",
        "            return recommendations\n",
        "                    \n",
        "        def _get_recommendations(self, new_song, n_recommendations):\n",
        "            # Get the id of the song according to the text\n",
        "            recom_song_id = self._fuzzy_matching(song=new_song)\n",
        "            # Start the recommendation process\n",
        "            print(f\"Starting the recommendation process for {new_song} ...\")\n",
        "            # Return the n neighbors for the song id\n",
        "            distances, indices = self.model.kneighbors(self.data[recom_song_id], n_neighbors=n_recommendations+1)\n",
        "            return sorted(list(zip(indices.squeeze().tolist(), distances.squeeze().tolist())), key=lambda x: x[1])[:0:-1]\n",
        "        \n",
        "        def _map_indeces_to_song_title(self, recommendation_ids):\n",
        "            # get reverse mapper\n",
        "            return {song_id: song_title for song_title, song_id in self.decode_id_song.items()}\n",
        "        \n",
        "        def _fuzzy_matching(self, song):\n",
        "            match_tuple = []\n",
        "            # get match\n",
        "            for title, idx in self.decode_id_song.items():\n",
        "                ratio = fuzz.ratio(title.lower(), song.lower())\n",
        "                if ratio >= 60:\n",
        "                    match_tuple.append((title, idx, ratio))\n",
        "            # sort\n",
        "            match_tuple = sorted(match_tuple, key=lambda x: x[2])[::-1]\n",
        "            if not match_tuple:\n",
        "                print(f\"The recommendation system could not find a match for {song}\")\n",
        "                return\n",
        "            return match_tuple[0][1]"
      ],
      "execution_count": 3,
      "outputs": []
    },
    {
      "cell_type": "markdown",
      "metadata": {
        "id": "lO73RyuuOOZd"
      },
      "source": [
        "# User Space"
      ]
    },
    {
      "cell_type": "code",
      "metadata": {
        "colab": {
          "base_uri": "https://localhost:8080/"
        },
        "id": "DEjIT7pCIjTX",
        "outputId": "c47aa8ce-97a1-4928-8303-d07e6cc6dc60"
      },
      "source": [
        "import warnings\n",
        "warnings.filterwarnings(\"ignore\")\n",
        "\n",
        "user_data = pd.read_csv(r'/content/user_data.csv')\n",
        "song_data = pd.read_csv(r'/content/song_data.csv')\n",
        "song_data.drop_duplicates(['song_id'], inplace=True)\n",
        "content_songs = pd.read_csv(r'/content/lyricsfreak.csv')\n",
        "\n",
        "print(\"Enter your name : \", end = \"\")\n",
        "user_name = input()\n",
        "print(\"\\nHello \" + user_name, end='\\n')\n",
        "\n",
        "print(\"Press 1 for Content-based Recommendations\", end = '\\n')\n",
        "print(\"Press 2 for Collaborative-based Recommendations\", end = '\\n')\n",
        "print(\"Press 3 for Popularity-based Recommendations\", end = '\\n')\n",
        "recommendation_type = int(input(\"Enter your choice : \"))\n",
        "\n",
        "if(recommendation_type == 1):\n",
        "  print(\"Enter the song number : \", end = \"\")\n",
        "  song_n = int(input())\n",
        "  print(\"Enter the number of recommendations needed : \", end = \"\")\n",
        "  n = int(input())\n",
        "  content_songs = content_songs.sample(n=5000).drop('link', axis=1).reset_index(drop=True)\n",
        "  content_songs['text'] = content_songs['text'].str.replace(r'\\n', '')\n",
        "  tfidf = TfidfVectorizer(analyzer='word', stop_words='english')\n",
        "  lyrics = tfidf.fit_transform(content_songs['text'])\n",
        "  cosine = cosine_similarity(lyrics)\n",
        "  similarities = {}\n",
        "  for i in range(len(cosine)):\n",
        "      similar_indices = cosine[i].argsort()[:-50:-1]\n",
        "      similarities[content_songs['song'].iloc[i]] = [(cosine[i][x], content_songs['song'][x], content_songs['artist'][x]) for x in similar_indices][1:]\n",
        "  recommedations = content_based_recommender(similarities)\n",
        "  recommendation = {\n",
        "    \"song\": content_songs['song'].iloc[song_n],\n",
        "    \"number_songs\": n \n",
        "  }\n",
        "  recommedations.recommend(recommendation)\n",
        "\n",
        "\n",
        "elif(recommendation_type == 2):\n",
        "  print(\"Enter the song name : \", end = \"\")\n",
        "  song_name = input()\n",
        "  col = collaborative_based_recommender()\n",
        "  collab_songs = pd.merge(user_data, song_data, on=\"song_id\", how=\"left\")\n",
        "  song_user = collab_songs.groupby('user_id')['song_id'].count()\n",
        "  users_morethan_16 = song_user[song_user > 16].index.to_list()\n",
        "  songid_morethan_16 = collab_songs[collab_songs['user_id'].isin(users_morethan_16)].reset_index(drop=True)\n",
        "  songs_features = songid_morethan_16.pivot(index='song_id', columns='user_id', values='listen_count').fillna(0)\n",
        "  new_songs_features = csr_matrix(songs_features.values)\n",
        "  uniq = collab_songs.drop_duplicates(subset=['song_id']).reset_index(drop=True)[['song_id', 'title']]\n",
        "  mapped_songs = {\n",
        "    song: i for i, song in enumerate(list(uniq.set_index('song_id').loc[songs_features.index].title))\n",
        "  }\n",
        "  model = col.Recommender(metric='cosine', algorithm='brute', k=20, data=new_songs_features, decode_id_song=mapped_songs)\n",
        "  recos = model.make_recommendation(new_song=song_name, n_recommendations=10)\n",
        "  print(f'The recommendations for \"{song_name}\" are:')\n",
        "  for i in recos:    \n",
        "      print(f\">> {i}\", end = \"\\n\")\n",
        "\n",
        "elif(recommendation_type == 3):\n",
        "  songs_df = pd.merge(user_data, song_data, on = 'song_id', how = \"left\")\n",
        "  songs_df['song_name'] = songs_df['title'] + ' - ' + songs_df['artist_name']\n",
        "\n",
        "  def create_popularity_chart(df, user_id, item_id, n):\n",
        "\n",
        "      # getting the count of user_ids for each unique item_id as recommendation score\n",
        "      grouped = df.groupby([item_id]).agg({user_id: 'count'}).reset_index()\n",
        "      grouped.rename(columns = {user_id: 'score'},inplace=True)\n",
        "      \n",
        "      # sort the songs based upon recommendation score\n",
        "      sorted = grouped.sort_values(['score', item_id], ascending = [0,1])\n",
        "      \n",
        "      # getting a recommendation rank based upon score\n",
        "      sorted['Rank'] = sorted.score.rank(ascending=0, method='first')\n",
        "          \n",
        "      # get the top n recommendations\n",
        "      popularity_recommendations = sorted.head(n)\n",
        "      return popularity_recommendations\n",
        "\n",
        "  song_recommendations = create_popularity_chart(songs_df,'user_id','song_name', 10)\n",
        "  for i in song_recommendations:    \n",
        "      print(f\">> {i['song_name']}\", end = \"\\n\")\n",
        "\n",
        "else:\n",
        "  print(\"\\nEnter a Valid Number\")"
      ],
      "execution_count": 11,
      "outputs": [
        {
          "output_type": "stream",
          "name": "stdout",
          "text": [
            "Enter your name : Mahes\n",
            "\n",
            "Hello Mahes\n",
            "Press 1 for Content-based Recommendations\n",
            "Press 2 for Collaborative-based Recommendations\n",
            "Press 3 for Popularity-based Recommendations\n",
            "Enter your choice : 2\n",
            "Enter the song name : I believe in miracles\n",
            "Starting the recommendation process for I believe in miracles ...\n",
            "... Done\n",
            "The recommendations for \"I believe in miracles\" are:\n",
            ">> Nine Million Bicycles\n",
            ">> If You Were A Sailboat\n",
            ">> Shy Boy\n",
            ">> I Cried For You\n",
            ">> Spider's Web\n",
            ">> Piece By Piece\n",
            ">> On The Road Again\n",
            ">> Blues In The Night\n",
            ">> Blue Shoes\n",
            ">> Thank You Stars\n"
          ]
        }
      ]
    },
    {
      "cell_type": "code",
      "source": [
        ""
      ],
      "metadata": {
        "id": "dxArTmhm7Vyg"
      },
      "execution_count": null,
      "outputs": []
    }
  ]
}